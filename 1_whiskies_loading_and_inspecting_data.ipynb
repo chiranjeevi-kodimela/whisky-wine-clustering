{
 "cells": [
  {
   "cell_type": "code",
   "execution_count": 1,
   "id": "9664f25a-f52d-427b-9e94-b0adbfdc827d",
   "metadata": {},
   "outputs": [
    {
     "name": "stdout",
     "output_type": "stream",
     "text": [
      "Whisky data shape: (86, 18)\n",
      "Flavor correlation matrix:\n",
      "               Body  Sweetness     Smoky  Medicinal   Tobacco     Honey  \\\n",
      "Body       1.000000  -0.136518  0.524032   0.354050  0.168718  0.082031   \n",
      "Sweetness -0.136518   1.000000 -0.405897  -0.392017 -0.147871  0.132558   \n",
      "Smoky      0.524032  -0.405897  1.000000   0.686071  0.365501 -0.195318   \n",
      "Medicinal  0.354050  -0.392017  0.686071   1.000000  0.425106 -0.396629   \n",
      "Tobacco    0.168718  -0.147871  0.365501   0.425106  1.000000 -0.275490   \n",
      "Honey      0.082031   0.132558 -0.195318  -0.396629 -0.275490  1.000000   \n",
      "Spicy      0.188500  -0.054200  0.231745   0.044903  0.054068  0.139563   \n",
      "Winey      0.408576   0.115727 -0.028190  -0.202651  0.009097  0.362021   \n",
      "Nutty      0.126323  -0.032493 -0.023132  -0.113671 -0.117717  0.188492   \n",
      "Malty     -0.116859  -0.001516 -0.192875  -0.258959 -0.059347  0.310184   \n",
      "Fruity    -0.013205   0.019820 -0.312970  -0.330975 -0.235145  0.108822   \n",
      "Floral    -0.461203   0.144987 -0.431663  -0.511323 -0.212375  0.183029   \n",
      "\n",
      "              Spicy     Winey     Nutty     Malty    Fruity    Floral  \n",
      "Body       0.188500  0.408576  0.126323 -0.116859 -0.013205 -0.461203  \n",
      "Sweetness -0.054200  0.115727 -0.032493 -0.001516  0.019820  0.144987  \n",
      "Smoky      0.231745 -0.028190 -0.023132 -0.192875 -0.312970 -0.431663  \n",
      "Medicinal  0.044903 -0.202651 -0.113671 -0.258959 -0.330975 -0.511323  \n",
      "Tobacco    0.054068  0.009097 -0.117717 -0.059347 -0.235145 -0.212375  \n",
      "Honey      0.139563  0.362021  0.188492  0.310184  0.108822  0.183029  \n",
      "Spicy      1.000000  0.092704 -0.042856  0.036303  0.144714  0.034663  \n",
      "Winey      0.092704  1.000000  0.198467  0.112368  0.090694 -0.126932  \n",
      "Nutty     -0.042856  0.198467  1.000000  0.066157  0.071765  0.018302  \n",
      "Malty      0.036303  0.112368  0.066157  1.000000  0.207288  0.106309  \n",
      "Fruity     0.144714  0.090694  0.071765  0.207288  1.000000  0.262336  \n",
      "Floral     0.034663 -0.126932  0.018302  0.106309  0.262336  1.000000  \n"
     ]
    }
   ],
   "source": [
    "import numpy as np\n",
    "import pandas as pd\n",
    "\n",
    "# Load data\n",
    "whisky = pd.read_csv(\"data/whiskies.txt\")\n",
    "regions = pd.read_csv(\"data/regions.txt\", header=None)\n",
    "whisky[\"Region\"] = regions\n",
    "\n",
    "# Extract flavor attributes (columns 2 to 13)\n",
    "flavors = whisky.iloc[:, 2:14]\n",
    "\n",
    "# Compute correlation matrix between flavor columns\n",
    "corr_flavors = flavors.corr()\n",
    "\n",
    "# Optional: print or save to check\n",
    "print(\"Whisky data shape:\", whisky.shape)\n",
    "print(\"Flavor correlation matrix:\")\n",
    "print(corr_flavors)\n"
   ]
  },
  {
   "cell_type": "code",
   "execution_count": null,
   "id": "559f1bf6-f8d8-496a-8ecd-90012a47fecb",
   "metadata": {},
   "outputs": [],
   "source": []
  }
 ],
 "metadata": {
  "kernelspec": {
   "display_name": "Python 3 (ipykernel)",
   "language": "python",
   "name": "python3"
  },
  "language_info": {
   "codemirror_mode": {
    "name": "ipython",
    "version": 3
   },
   "file_extension": ".py",
   "mimetype": "text/x-python",
   "name": "python",
   "nbconvert_exporter": "python",
   "pygments_lexer": "ipython3",
   "version": "3.13.5"
  }
 },
 "nbformat": 4,
 "nbformat_minor": 5
}
