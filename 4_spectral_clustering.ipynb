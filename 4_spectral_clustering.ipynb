{
 "cells": [
  {
   "cell_type": "code",
   "execution_count": 2,
   "id": "b484f0c1-b8ce-4008-8cfa-81b3eb04fd3f",
   "metadata": {},
   "outputs": [
    {
     "name": "stdout",
     "output_type": "stream",
     "text": [
      "Flavor Summary per Cluster:\n",
      "        Body  Sweetness  Smoky  Medicinal  Tobacco  Honey  Spicy  Winey  Nutty  \\\n",
      "Group                                                                           \n",
      "0      2.30       1.80   2.50       2.00      0.0   1.10   1.70   0.50   1.60   \n",
      "1      1.50       2.44   1.19       0.25      0.0   0.97   1.22   0.31   1.19   \n",
      "3      3.50       1.50   3.75       3.25      1.0   0.00   1.25   0.75   1.25   \n",
      "4      2.41       2.38   1.32       0.06      0.0   1.74   1.41   1.74   1.76   \n",
      "5      1.83       2.33   1.50       0.67      1.0   1.00   1.67   1.17   1.17   \n",
      "\n",
      "       Malty  Fruity  Floral  \n",
      "Group                         \n",
      "0       1.60    1.30    0.90  \n",
      "1       1.78    1.91    2.25  \n",
      "3       1.00    1.00    0.25  \n",
      "4       1.91    2.00    1.56  \n",
      "5       2.17    1.50    1.83  \n",
      "\n",
      "Region Distribution per Cluster:\n",
      " Region  #####Regions#####  Campbelltown  Highlands  Islands  Islay  Lowlands  \\\n",
      "Group                                                                          \n",
      "0                       0             0          4        0      1         0   \n",
      "1                       0             1          8        3      2         0   \n",
      "3                       0             0          0        0      2         0   \n",
      "4                       1             1          7        3      2         3   \n",
      "5                       0             0          5        0      0         0   \n",
      "\n",
      "Region  Speyside  \n",
      "Group             \n",
      "0              5  \n",
      "1             18  \n",
      "3              2  \n",
      "4             17  \n",
      "5              1  \n"
     ]
    }
   ],
   "source": [
    "import pandas as pd\n",
    "import numpy as np\n",
    "import warnings\n",
    "warnings.filterwarnings(\"ignore\", category=UserWarning, module=\"joblib\")\n",
    "\n",
    "from sklearn.cluster import SpectralCoclustering\n",
    "\n",
    "# Load and prepare data\n",
    "whisky = pd.read_csv(\"data/whiskies.txt\")\n",
    "regions = pd.read_csv(\"data/regions.txt\", header=None)\n",
    "whisky[\"Region\"] = regions\n",
    "flavors = whisky.iloc[:, 2:14]\n",
    "\n",
    "# Apply Spectral Co-Clustering\n",
    "model = SpectralCoclustering(n_clusters=6, random_state=0)\n",
    "model.fit(flavors)\n",
    "\n",
    "# Assign groups and reorder\n",
    "whisky[\"Group\"] = model.row_labels_\n",
    "whisky_sorted = whisky.iloc[np.argsort(model.row_labels_)].reset_index(drop=True)\n",
    "\n",
    "# Group summaries\n",
    "flavor_summary = whisky.groupby(\"Group\")[flavors.columns].mean().round(2)\n",
    "region_summary = whisky.groupby([\"Group\", \"Region\"]).size().unstack(fill_value=0)\n",
    "\n",
    "# Output\n",
    "print(\"Flavor Summary per Cluster:\\n\", flavor_summary)\n",
    "print(\"\\nRegion Distribution per Cluster:\\n\", region_summary)\n",
    "\n",
    "# Save to CSV\n",
    "flavor_summary.to_csv(\"outputs/cluster_flavor_summary.csv\")\n",
    "region_summary.to_csv(\"outputs/cluster_region_summary.csv\")\n",
    "whisky_sorted.to_csv(\"outputs/whisky_sorted_by_cluster.csv\", index=False)\n"
   ]
  },
  {
   "cell_type": "code",
   "execution_count": null,
   "id": "92a44e32-9465-467f-bf4c-56280df7e2ad",
   "metadata": {},
   "outputs": [],
   "source": []
  }
 ],
 "metadata": {
  "kernelspec": {
   "display_name": "Python 3 (ipykernel)",
   "language": "python",
   "name": "python3"
  },
  "language_info": {
   "codemirror_mode": {
    "name": "ipython",
    "version": 3
   },
   "file_extension": ".py",
   "mimetype": "text/x-python",
   "name": "python",
   "nbconvert_exporter": "python",
   "pygments_lexer": "ipython3",
   "version": "3.13.5"
  }
 },
 "nbformat": 4,
 "nbformat_minor": 5
}
